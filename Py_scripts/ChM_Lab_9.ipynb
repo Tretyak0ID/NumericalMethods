{
 "cells": [
  {
   "cell_type": "markdown",
   "id": "7050b819",
   "metadata": {},
   "source": [
    "# Численные методы. Лабораторная работа №9. Косолапов И. ПМ-31"
   ]
  },
  {
   "cell_type": "markdown",
   "id": "f31df727",
   "metadata": {},
   "source": [
    "## Уравнение теплопроводности с граничными условиями Дирихле"
   ]
  },
  {
   "attachments": {
    "image.png": {
     "image/png": "[encoded data removed]"
    }
   },
   "cell_type": "markdown",
   "id": "62254b30",
   "metadata": {},
   "source": [
    "![image.png](attachment:image.png)"
   ]
  },
  {
   "attachments": {
    "image.png": {
     "image/png": "[encoded data removed]"
    }
   },
   "cell_type": "markdown",
   "id": "f213ec0d",
   "metadata": {},
   "source": [
    "![image.png](attachment:image.png)/"
   ]
  },
  {
   "cell_type": "code",
   "execution_count": 1,
   "id": "6e0ec8aa",
   "metadata": {},
   "outputs": [],
   "source": [
    "import numpy as np\n",
    "import matplotlib.pyplot as plt\n",
    "from tqdm import tqdm\n",
    "import glob\n",
    "import moviepy.editor as mpy"
   ]
  },
  {
   "cell_type": "code",
   "execution_count": 25,
   "id": "a1455a3b",
   "metadata": {},
   "outputs": [],
   "source": [
    "def mu(x):\n",
    "    return np.exp(-(x-5)**4) + 0.01*x "
   ]
  },
  {
   "cell_type": "code",
   "execution_count": 33,
   "id": "a7d1e6a3",
   "metadata": {},
   "outputs": [
    {
     "data": {
      "text/plain": [
       "array([0.000e+00, 1.000e-02, 2.000e-02, ..., 1.999e+01, 2.000e+01,\n",
       "       2.001e+01])"
      ]
     },
     "execution_count": 33,
     "metadata": {},
     "output_type": "execute_result"
    }
   ],
   "source": [
    "x"
   ]
  },
  {
   "cell_type": "code",
   "execution_count": 161,
   "id": "d7697150",
   "metadata": {},
   "outputs": [],
   "source": [
    "a, T, K, h, tau = 20, 10, 2, 0.01, 0.05\n",
    "sigma = (1+1j)/2\n",
    "x = np.array([i for i in np.arange(0,a,h)])\n",
    "t = np.array([i for i in np.arange(0, T, tau)])\n",
    "b0 = np.zeros(len(x)) - 2\n",
    "b1 = np.zeros(len(x)-1) + 1\n",
    "L = K/(h**2)*(np.diag(b0) + np.diag(b1, k = 1) + np.diag(b1, k = -1))\n",
    "L[0] = 0\n",
    "L[-1] = 0"
   ]
  },
  {
   "cell_type": "code",
   "execution_count": 162,
   "id": "67c79e5f",
   "metadata": {},
   "outputs": [],
   "source": [
    "U = np.zeros((len(t), len(x)))\n",
    "U[0] = mu(x)\n",
    "U[:, 0] = mu(np.zeros(len(t)))\n",
    "l = np.zeros(len(t)) + mu(a)\n",
    "U[:,-1] = l"
   ]
  },
  {
   "cell_type": "code",
   "execution_count": 163,
   "id": "35c0bb3f",
   "metadata": {
    "scrolled": true
   },
   "outputs": [
    {
     "data": {
      "text/plain": [
       "array([[     0.,      0.,      0., ...,      0.,      0.,      0.],\n",
       "       [ 20000., -40000.,  20000., ...,      0.,      0.,      0.],\n",
       "       [     0.,  20000., -40000., ...,      0.,      0.,      0.],\n",
       "       ...,\n",
       "       [     0.,      0.,      0., ..., -40000.,  20000.,      0.],\n",
       "       [     0.,      0.,      0., ...,  20000., -40000.,  20000.],\n",
       "       [     0.,      0.,      0., ...,      0.,      0.,      0.]])"
      ]
     },
     "execution_count": 163,
     "metadata": {},
     "output_type": "execute_result"
    }
   ],
   "source": [
    "L"
   ]
  },
  {
   "cell_type": "code",
   "execution_count": 164,
   "id": "f4ca806b",
   "metadata": {
    "scrolled": true
   },
   "outputs": [
    {
     "data": {
      "text/plain": [
       "array([1.00015894e-01, 9.99853231e-05, 1.99970585e-04, ...,\n",
       "       7.92983021e-03, 3.96769319e-03, 6.94577271e+00])"
      ]
     },
     "execution_count": 164,
     "metadata": {},
     "output_type": "execute_result"
    }
   ],
   "source": [
    "U[0] + tau*w.real"
   ]
  },
  {
   "cell_type": "code",
   "execution_count": 165,
   "id": "eb59c7c9",
   "metadata": {},
   "outputs": [
    {
     "data": {
      "text/plain": [
       "array([3.68085585e-272, 1.00000000e-004, 2.00000000e-004, ...,\n",
       "       1.99700000e-001, 1.99800000e-001, 2.00000000e-001])"
      ]
     },
     "execution_count": 165,
     "metadata": {},
     "output_type": "execute_result"
    }
   ],
   "source": [
    "U[0]"
   ]
  },
  {
   "cell_type": "code",
   "execution_count": 166,
   "id": "4fc85f90",
   "metadata": {},
   "outputs": [
    {
     "data": {
      "text/plain": [
       "array([3.68085585e-272, 0.00000000e+000, 0.00000000e+000, ...,\n",
       "       0.00000000e+000, 0.00000000e+000, 2.00000000e-001])"
      ]
     },
     "execution_count": 166,
     "metadata": {},
     "output_type": "execute_result"
    }
   ],
   "source": [
    "U[1]"
   ]
  },
  {
   "cell_type": "code",
   "execution_count": 167,
   "id": "693d95b8",
   "metadata": {},
   "outputs": [
    {
     "data": {
      "text/plain": [
       "True"
      ]
     },
     "execution_count": 167,
     "metadata": {},
     "output_type": "execute_result"
    }
   ],
   "source": [
    "np.allclose(np.dot(left, w), right)"
   ]
  },
  {
   "cell_type": "code",
   "execution_count": 172,
   "id": "afaffc47",
   "metadata": {},
   "outputs": [
    {
     "name": "stderr",
     "output_type": "stream",
     "text": [
      "100%|█████████▉| 199/200 [01:23<00:00,  2.39it/s]\n"
     ]
    },
    {
     "ename": "IndexError",
     "evalue": "index 200 is out of bounds for axis 0 with size 200",
     "output_type": "error",
     "traceback": [
      "\u001b[1;31m---------------------------------------------------------------------------\u001b[0m",
      "\u001b[1;31mIndexError\u001b[0m                                Traceback (most recent call last)",
      "\u001b[1;32m~\\AppData\\Local\\Temp/ipykernel_10484/1889973618.py\u001b[0m in \u001b[0;36m<module>\u001b[1;34m\u001b[0m\n\u001b[0;32m      4\u001b[0m     \u001b[0mright\u001b[0m \u001b[1;33m=\u001b[0m \u001b[0mL\u001b[0m\u001b[1;33m@\u001b[0m\u001b[0mU\u001b[0m\u001b[1;33m[\u001b[0m\u001b[0mk\u001b[0m\u001b[1;33m]\u001b[0m\u001b[1;33m\u001b[0m\u001b[1;33m\u001b[0m\u001b[0m\n\u001b[0;32m      5\u001b[0m     \u001b[0mw\u001b[0m \u001b[1;33m=\u001b[0m \u001b[0mnp\u001b[0m\u001b[1;33m.\u001b[0m\u001b[0mlinalg\u001b[0m\u001b[1;33m.\u001b[0m\u001b[0msolve\u001b[0m\u001b[1;33m(\u001b[0m\u001b[0mleft\u001b[0m\u001b[1;33m,\u001b[0m \u001b[0mright\u001b[0m\u001b[1;33m)\u001b[0m\u001b[1;33m\u001b[0m\u001b[1;33m\u001b[0m\u001b[0m\n\u001b[1;32m----> 6\u001b[1;33m     \u001b[0mU\u001b[0m\u001b[1;33m[\u001b[0m\u001b[0mk\u001b[0m\u001b[1;33m+\u001b[0m\u001b[1;36m1\u001b[0m\u001b[1;33m]\u001b[0m \u001b[1;33m=\u001b[0m \u001b[0mU\u001b[0m\u001b[1;33m[\u001b[0m\u001b[0mk\u001b[0m\u001b[1;33m]\u001b[0m \u001b[1;33m+\u001b[0m \u001b[0mtau\u001b[0m\u001b[1;33m*\u001b[0m\u001b[0mw\u001b[0m\u001b[1;33m.\u001b[0m\u001b[0mreal\u001b[0m\u001b[1;33m\u001b[0m\u001b[1;33m\u001b[0m\u001b[0m\n\u001b[0m\u001b[0;32m      7\u001b[0m     \u001b[0mU\u001b[0m\u001b[1;33m[\u001b[0m\u001b[1;33m:\u001b[0m\u001b[1;33m,\u001b[0m\u001b[1;33m-\u001b[0m\u001b[1;36m1\u001b[0m\u001b[1;33m]\u001b[0m \u001b[1;33m=\u001b[0m \u001b[0ml\u001b[0m\u001b[1;33m\u001b[0m\u001b[1;33m\u001b[0m\u001b[0m\n",
      "\u001b[1;31mIndexError\u001b[0m: index 200 is out of bounds for axis 0 with size 200"
     ]
    }
   ],
   "source": [
    "E = np.eye(len(x))\n",
    "for k in tqdm(range(len(t-1))):\n",
    "    left = E - sigma*tau*L\n",
    "    right = L@U[k]\n",
    "    w = np.linalg.solve(left, right)\n",
    "    U[k+1] = U[k] + tau*w.real\n",
    "    U[:,-1] = l"
   ]
  },
  {
   "cell_type": "code",
   "execution_count": 178,
   "id": "5923d49e",
   "metadata": {},
   "outputs": [],
   "source": [
    "def gif_maker(x,t, U, name):\n",
    "    plt.style.use('dark_background')\n",
    "    for i in tqdm(range(0,len(t), 1)):\n",
    "        fig, ax = plt.subplots(figsize= (12, 7))\n",
    "        ax.set(xlim=(0, 20), ylim = (0,1))\n",
    "        ax.plot(x, U[i], )\n",
    "        ax.set_xlabel('x')\n",
    "        ax.set_ylabel('U')\n",
    "        ax.set_title(name)\n",
    "        fig.savefig(f\"./pic/{i}.png\")\n",
    "        plt.close()\n",
    "    \n",
    "    gif_name = f'{name}'\n",
    "    fps = 24\n",
    "    file_list = glob.glob('./pic/*')\n",
    "    file_list.sort(key = lambda x: int(x.replace('./pic\\\\', '').replace('.png', '')))\n",
    "    clip = mpy.ImageSequenceClip(file_list, fps=fps)\n",
    "    clip.write_gif('{}.gif'.format(gif_name), fps=fps)"
   ]
  },
  {
   "cell_type": "code",
   "execution_count": 179,
   "id": "483715be",
   "metadata": {},
   "outputs": [
    {
     "name": "stderr",
     "output_type": "stream",
     "text": [
      "100%|██████████| 200/200 [00:15<00:00, 12.81it/s]\n"
     ]
    },
    {
     "name": "stdout",
     "output_type": "stream",
     "text": [
      "MoviePy - Building file Dirichlet.gif with imageio.\n"
     ]
    },
    {
     "name": "stderr",
     "output_type": "stream",
     "text": [
      "                                                              \r"
     ]
    }
   ],
   "source": [
    "gif_maker(x,t, U, 'Dirichlet')"
   ]
  },
  {
   "cell_type": "markdown",
   "id": "77a33178",
   "metadata": {},
   "source": [
    "![ChessUrl](./Dirichlet.gif)"
   ]
  },
  {
   "cell_type": "markdown",
   "id": "f084e020",
   "metadata": {},
   "source": [
    "## Уравнение теплопроводности с граничными условиями Неймана"
   ]
  },
  {
   "cell_type": "code",
   "execution_count": 3,
   "id": "88e39417",
   "metadata": {},
   "outputs": [],
   "source": [
    "a, T, K, h, tau = 20, 10, 2, 0.01, 0.05\n",
    "sigma = (1+1j)/2\n",
    "x = np.array([i for i in np.arange(0,a+h,h)])\n",
    "t = np.array([i for i in np.arange(0, T+tau, tau)])\n",
    "b0 = np.zeros(len(x)) - 2\n",
    "b1 = np.zeros(len(x)-1) + 1\n",
    "L = K/(h**2)*(np.diag(b0) + np.diag(b1, k = 1) + np.diag(b1, k = -1))"
   ]
  },
  {
   "cell_type": "code",
   "execution_count": 4,
   "id": "8db334cd",
   "metadata": {},
   "outputs": [],
   "source": [
    "U = np.zeros((len(t), len(x)))\n",
    "U[0] = mu(x)"
   ]
  },
  {
   "cell_type": "code",
   "execution_count": 5,
   "id": "9fdaad4f",
   "metadata": {},
   "outputs": [],
   "source": [
    "U[:, 0] = U[0,0]\n",
    "U[:, -1] = U[0,-1]"
   ]
  },
  {
   "cell_type": "code",
   "execution_count": 8,
   "id": "ab342fb7",
   "metadata": {},
   "outputs": [],
   "source": [
    "L[0] = 0\n",
    "L[0,0] = -2*K/h**2\n",
    "L[0,1] = 2*K/h**2\n",
    "L[-1] = 0\n",
    "L[-1,-2] = 2*K/h**2\n",
    "L[-1,-1] = -2*K/h**2"
   ]
  },
  {
   "cell_type": "code",
   "execution_count": 9,
   "id": "ce593bd3",
   "metadata": {},
   "outputs": [
    {
     "name": "stderr",
     "output_type": "stream",
     "text": [
      "100%|██████████| 200/200 [00:59<00:00,  3.37it/s]\n"
     ]
    }
   ],
   "source": [
    "E = np.eye(len(x))\n",
    "for k in tqdm(range(len(t)-1)):\n",
    "    left = E - sigma*tau*L\n",
    "    right = L@U[k]\n",
    "    w = np.linalg.solve(left, right)\n",
    "    U[k+1] = U[k] + tau*w.real"
   ]
  },
  {
   "cell_type": "code",
   "execution_count": 178,
   "id": "ce727298",
   "metadata": {},
   "outputs": [],
   "source": [
    "u0 = np.zeros(len(t))\n",
    "uN = np.zeros(len(t))\n",
    "u0[0] = U[0][0]\n",
    "uN[0] = U[0][-1]\n",
    "for k in range(len(t)-1):\n",
    "    U[k+1][0] = 2*K*tau/(h**2)*(U[k][1]-U[k][0]) + U[k][0]\n",
    "    #U[k+1][0] = 2*K*tau/(h**2)*(U[k][1] - U[k][0]) - U[k][0]\n",
    "    U[k+1][-1] = -2*K*tau/(h**2)*(U[k][-1] - U[k][-2]) - U[k][-1]"
   ]
  },
  {
   "cell_type": "code",
   "execution_count": 18,
   "id": "fac188c6",
   "metadata": {},
   "outputs": [
    {
     "name": "stderr",
     "output_type": "stream",
     "text": [
      "100%|██████████| 201/201 [00:14<00:00, 14.26it/s]\n"
     ]
    },
    {
     "name": "stdout",
     "output_type": "stream",
     "text": [
      "MoviePy - Building file Neumann.gif.gif with imageio.\n"
     ]
    },
    {
     "name": "stderr",
     "output_type": "stream",
     "text": [
      "                                                              \r"
     ]
    }
   ],
   "source": [
    "gif_maker(x,t, U, 'Neumann')"
   ]
  },
  {
   "cell_type": "markdown",
   "id": "191c0b93",
   "metadata": {},
   "source": [
    "![ChessUrl](./Neumann.gif.gif)"
   ]
  },
  {
   "cell_type": "code",
   "execution_count": null,
   "id": "32954933",
   "metadata": {},
   "outputs": [],
   "source": []
  }
 ],
 "metadata": {
  "kernelspec": {
   "display_name": "Python 3 (ipykernel)",
   "language": "python",
   "name": "python3"
  },
  "language_info": {
   "codemirror_mode": {
    "name": "ipython",
    "version": 3
   },
   "file_extension": ".py",
   "mimetype": "text/x-python",
   "name": "python",
   "nbconvert_exporter": "python",
   "pygments_lexer": "ipython3",
   "version": "3.8.12"
  }
 },
 "nbformat": 4,
 "nbformat_minor": 5
}
