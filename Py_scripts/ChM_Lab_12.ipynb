{
 "cells": [
  {
   "cell_type": "markdown",
   "id": "8d8d7548",
   "metadata": {},
   "source": [
    "# Численные методы. Лабораторная работа №12. Косолапов И. ПМ-31"
   ]
  },
  {
   "attachments": {
    "image.png": {
     "image/png": "[encoded data removed]"
    }
   },
   "cell_type": "markdown",
   "id": "11862ee9",
   "metadata": {},
   "source": [
    "![image.png](attachment:image.png)"
   ]
  },
  {
   "cell_type": "code",
   "execution_count": 1,
   "id": "9b35a2cf",
   "metadata": {},
   "outputs": [],
   "source": [
    "import numpy as np\n",
    "import matplotlib.pyplot as plt\n",
    "from math import pi"
   ]
  },
  {
   "cell_type": "code",
   "execution_count": 2,
   "id": "4ee58c57",
   "metadata": {},
   "outputs": [],
   "source": [
    "def mu3(x):\n",
    "    return np.sin(x)"
   ]
  },
  {
   "cell_type": "markdown",
   "id": "787ffb66",
   "metadata": {},
   "source": [
    "# Task - 1"
   ]
  },
  {
   "cell_type": "code",
   "execution_count": 3,
   "id": "8d59b3bd",
   "metadata": {},
   "outputs": [],
   "source": [
    "tau, h, a, b, c = 0.01, 6*pi/100, 6*pi, 10, 3\n",
    "x = np.arange(0, a, h)\n",
    "t = np.arange(0, b, tau)\n",
    "L = c**2/h**2*(np.diag(np.zeros(len(x)) -2) + np.diag(np.zeros(len(x)-1) +1, k = -1) + np.diag(np.zeros(len(x)-1 )+1, k = 1))\n",
    "L[0] = 0\n",
    "L[-1] = 0\n",
    "U = np.zeros((len(t), len(x)))\n",
    "U[:,0] = 0\n",
    "U[:,-1] = 0\n",
    "U[0] = mu3(x)\n",
    "U[1] = mu3(x) #+ 1/2 * (tau**2*L@mu3(x))"
   ]
  },
  {
   "cell_type": "code",
   "execution_count": 200,
   "id": "e18193f3",
   "metadata": {},
   "outputs": [],
   "source": [
    "sigma = 3.0/8.0\n",
    "E = np.eye(len(x))\n",
    "for i in range(1, len(t)-1):\n",
    "    U[i+1] = np.linalg.inv(E - sigma*tau**2*L) @ L @ U[i]*tau**2 + 2*U[i] - U[i-1]"
   ]
  },
  {
   "cell_type": "code",
   "execution_count": 201,
   "id": "a5ca14a6",
   "metadata": {},
   "outputs": [],
   "source": [
    "from tqdm import tqdm\n",
    "import glob\n",
    "import moviepy.editor as mpy"
   ]
  },
  {
   "cell_type": "code",
   "execution_count": 202,
   "id": "6e751597",
   "metadata": {},
   "outputs": [
    {
     "name": "stderr",
     "output_type": "stream",
     "text": [
      "100%|██████████| 1000/1000 [01:23<00:00, 12.02it/s]\n"
     ]
    },
    {
     "name": "stdout",
     "output_type": "stream",
     "text": [
      "MoviePy - Building file Task-1.gif with imageio.\n"
     ]
    },
    {
     "name": "stderr",
     "output_type": "stream",
     "text": [
      "                                                               \r"
     ]
    }
   ],
   "source": [
    "def gif_maker(x,t, U, name):\n",
    "    plt.style.use('dark_background')\n",
    "    for i in tqdm(range(0,len(t), 1)):\n",
    "        fig, ax = plt.subplots(figsize= (12, 7))\n",
    "        ax.set(xlim=(0, 6*pi), ylim = (-1.3,1.3))\n",
    "        ax.plot(x, U[i], )\n",
    "        ax.set_xlabel('x')\n",
    "        ax.set_ylabel('U')\n",
    "        ax.set_title(name)\n",
    "        fig.savefig(f\"./pic/{i}.png\")\n",
    "        plt.close()\n",
    "    \n",
    "    gif_name = f'{name}'\n",
    "    fps = 24\n",
    "    file_list = glob.glob('./pic/*')\n",
    "    file_list.sort(key = lambda x: int(x.replace('./pic\\\\', '').replace('.png', '')))\n",
    "    clip = mpy.ImageSequenceClip(file_list, fps=fps)\n",
    "    clip.write_gif('{}.gif'.format(gif_name), fps=fps)\n",
    "gif_maker(x,t, U, 'Task-1')"
   ]
  },
  {
   "cell_type": "markdown",
   "id": "dc996819",
   "metadata": {},
   "source": [
    "![ChessUrl](./Task-1.gif)"
   ]
  },
  {
   "cell_type": "markdown",
   "id": "5482730b",
   "metadata": {},
   "source": [
    "# Task - 2 "
   ]
  },
  {
   "cell_type": "code",
   "execution_count": 4,
   "id": "9d62b56c",
   "metadata": {},
   "outputs": [],
   "source": [
    "def mu3(x):\n",
    "    return np.sin(x*(1+0.1*np.exp(-(x-10)**2)))"
   ]
  },
  {
   "cell_type": "code",
   "execution_count": 5,
   "id": "7a078479",
   "metadata": {},
   "outputs": [],
   "source": [
    "tau, h, a, b, c = 0.01, 6*pi/100, 6*pi, 10, 3\n",
    "def task2(tau, h, a, b, c):\n",
    "    x = np.arange(0, a, h)\n",
    "    t = np.arange(0, b, tau)\n",
    "    L = c**2/h**2*(np.diag(np.zeros(len(x)) -2) + np.diag(np.zeros(len(x)-1) +1, k = -1) + np.diag(np.zeros(len(x)-1 )+1, k = 1))\n",
    "    L[0] = 0\n",
    "    L[-1] = 0\n",
    "    U = np.zeros((len(t), len(x)))\n",
    "    U[:,0] = 0\n",
    "    U[:,-1] = 0\n",
    "    U[0] = mu3(x)\n",
    "    U[1] = mu3(x) #+ 1/2 * (tau**2*L@mu3(x))\n",
    "    sigma = 1/3\n",
    "    E = np.eye(len(x))\n",
    "    for i in range(1, len(t)-1):\n",
    "        U[i+1] = np.linalg.inv(E - sigma*tau**2*L) @ L @ U[i]*tau**2 + 2*U[i] - U[i-1]\n",
    "    return x,t, U"
   ]
  },
  {
   "cell_type": "code",
   "execution_count": 197,
   "id": "4b36e1cc",
   "metadata": {},
   "outputs": [
    {
     "name": "stderr",
     "output_type": "stream",
     "text": [
      "100%|██████████| 1000/1000 [01:30<00:00, 11.10it/s]\n"
     ]
    },
    {
     "name": "stdout",
     "output_type": "stream",
     "text": [
      "MoviePy - Building file Task-2.gif with imageio.\n"
     ]
    },
    {
     "name": "stderr",
     "output_type": "stream",
     "text": [
      "                                                               \r"
     ]
    }
   ],
   "source": [
    "x, t, U = task2(tau, h, a, b, c)\n",
    "gif_maker(x,t, U, 'Task-2')"
   ]
  },
  {
   "cell_type": "markdown",
   "id": "0bc8e254",
   "metadata": {},
   "source": [
    "![ChessUrl](./Task-2.gif)"
   ]
  },
  {
   "cell_type": "markdown",
   "id": "ef59846d",
   "metadata": {},
   "source": [
    "# Task - 3"
   ]
  },
  {
   "cell_type": "code",
   "execution_count": 8,
   "id": "3f45b3eb",
   "metadata": {},
   "outputs": [],
   "source": [
    "from tqdm import tqdm"
   ]
  },
  {
   "cell_type": "code",
   "execution_count": 9,
   "id": "2f4b991f",
   "metadata": {},
   "outputs": [],
   "source": [
    "def p(U1, U2, U3):\n",
    "    return - np.log2(max(abs(U3[::2,::2].flatten() - U2.flatten()))/ max(abs(U2[::2,::2].flatten() - U1.flatten())))"
   ]
  },
  {
   "cell_type": "code",
   "execution_count": 10,
   "id": "27f0f4b0",
   "metadata": {},
   "outputs": [
    {
     "name": "stderr",
     "output_type": "stream",
     "text": [
      "100%|██████████| 5/5 [02:06<00:00, 25.36s/it]\n"
     ]
    }
   ],
   "source": [
    "b, tau, h = 1, 1/16, 6*pi/16\n",
    "mass_tau = [tau, tau/2, tau/4, tau/8, tau/16, tau/32, tau/64]\n",
    "mass_h = [h, h/2, h/4, h/8, h/16, h/32, h/64]\n",
    "p_mass = []\n",
    "for i in tqdm(range(len(mass_tau)-2)):\n",
    "    x, t, U1 = task2(mass_tau[i], mass_h[i], a, b, c)\n",
    "    x, t, U2 = task2(mass_tau[i+1], mass_h[i+1], a, b, c)\n",
    "    x, t, U3 = task2(mass_tau[i+2], mass_h[i+2], a, b, c)\n",
    "    p_mass.append(p(U1, U2, U3))"
   ]
  },
  {
   "cell_type": "code",
   "execution_count": 11,
   "id": "456288cf",
   "metadata": {},
   "outputs": [
    {
     "data": {
      "image/png": "[encoded data removed]",
      "text/plain": [
       "<Figure size 864x504 with 1 Axes>"
      ]
     },
     "metadata": {
      "needs_background": "light"
     },
     "output_type": "display_data"
    }
   ],
   "source": [
    "fig, ax = plt.subplots(figsize = (12, 7))\n",
    "ax.plot(np.arange(1,6),p_mass)\n",
    "ax.set_title('Эффективный порядок')\n",
    "ax.set_xlabel('N')\n",
    "ax.set_ylabel('p')\n",
    "ax.grid(':')"
   ]
  },
  {
   "cell_type": "code",
   "execution_count": null,
   "id": "cfefa1c0",
   "metadata": {},
   "outputs": [],
   "source": []
  }
 ],
 "metadata": {
  "kernelspec": {
   "display_name": "Python 3 (ipykernel)",
   "language": "python",
   "name": "python3"
  },
  "language_info": {
   "codemirror_mode": {
    "name": "ipython",
    "version": 3
   },
   "file_extension": ".py",
   "mimetype": "text/x-python",
   "name": "python",
   "nbconvert_exporter": "python",
   "pygments_lexer": "ipython3",
   "version": "3.8.12"
  }
 },
 "nbformat": 4,
 "nbformat_minor": 5
}
