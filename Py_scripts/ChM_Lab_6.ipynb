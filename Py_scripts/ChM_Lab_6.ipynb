{
 "cells": [
  {
   "cell_type": "code",
   "execution_count": 1,
   "id": "f48b866e",
   "metadata": {},
   "outputs": [],
   "source": [
    "import numpy as np\n",
    "from numpy import exp\n",
    "import matplotlib.pyplot as plt"
   ]
  },
  {
   "cell_type": "code",
   "execution_count": 2,
   "id": "d7530616",
   "metadata": {},
   "outputs": [],
   "source": [
    "def diff_scheme(u, lambd):\n",
    "    return ( u[2] - u[1] )*(k0 + k1*(u[1]**2 + u[2]**2)/2) - \\\n",
    "                (u[1] - u[0])*(k0 + k1*( u[1]**2 + u[0]**2 )/2) + h**2 * lambd * u[1]\n",
    "\n",
    "    \n",
    "def board_cond(u, N):\n",
    "    return u[int(N/2) + 1] - u[int(N/2) -1] - 2*h\n",
    "\n",
    "\n",
    "def right_part(x, u):\n",
    "    \n",
    "    N = len(u) - 1\n",
    "            \n",
    "    F_1 = diff_scheme([0, u[0], u[1]], u[-1])\n",
    "    F_k = [ diff_scheme(u[i-1:i+2], u[-1]) for i in range(1, N - 1) ]\n",
    "    F_N = diff_scheme([u[N-2], u[N-1], 0], u[-1])\n",
    "    \n",
    "    F = np.append( F_1, F_k )\n",
    "    F = np.append( F, F_N )\n",
    "    F = np.append( F, board_cond(u, N))\n",
    "    \n",
    "    return F"
   ]
  },
  {
   "cell_type": "code",
   "execution_count": 3,
   "id": "1df06876",
   "metadata": {},
   "outputs": [
    {
     "name": "stdout",
     "output_type": "stream",
     "text": [
      "Число отрезков: 8\n",
      "Iteration: 0\n",
      "||dx||: 73979.30060720362\n",
      "Iteration: 1\n",
      "||dx||: 972.4114413227061\n",
      "Iteration: 2\n",
      "||dx||: 261324.03429544554\n",
      "Iteration: 3\n",
      "||dx||: 19551.876077016528\n",
      "Iteration: 4\n",
      "||dx||: 22084.100142976917\n",
      "Iteration: 5\n",
      "||dx||: 23760.752425792147\n",
      "Iteration: 6\n",
      "||dx||: 1077.9368248766307\n",
      "Iteration: 7\n",
      "||dx||: 522.0443998576781\n",
      "Iteration: 8\n",
      "||dx||: 151.73169274827637\n",
      "Iteration: 9\n",
      "||dx||: 10.602334088244461\n",
      "Iteration: 10\n",
      "||dx||: 0.22276131174955685\n",
      "Iteration: 11\n",
      "||dx||: 2.1955094777816863e-05\n",
      "Iteration: 12\n",
      "||dx||: 5.028181407578175e-13\n",
      "Число отрезков: 16\n",
      "Iteration: 0\n",
      "||dx||: 2128.0035048879045\n",
      "Iteration: 1\n",
      "||dx||: 265.81092453936407\n",
      "Iteration: 2\n",
      "||dx||: 4.929521090420023\n",
      "Iteration: 3\n",
      "||dx||: 0.0024873428201759606\n",
      "Iteration: 4\n",
      "||dx||: 8.261001428395399e-09\n",
      "Iteration: 5\n",
      "||dx||: 2.5121371912523943e-19\n",
      "Число отрезков: 32\n",
      "Iteration: 0\n",
      "||dx||: 1157.4908393679937\n",
      "Iteration: 1\n",
      "||dx||: 42.23262347435528\n",
      "Iteration: 2\n",
      "||dx||: 0.15331851802096413\n",
      "Iteration: 3\n",
      "||dx||: 5.6938637414241875e-05\n",
      "Iteration: 4\n",
      "||dx||: 1.1807483940560573e-12\n",
      "Iteration: 5\n",
      "||dx||: 1.5457120060115656e-25\n",
      "Число отрезков: 64\n",
      "Iteration: 0\n",
      "||dx||: 840.3077103834399\n",
      "Iteration: 1\n",
      "||dx||: 1.0932703617271216\n",
      "Iteration: 2\n",
      "||dx||: 0.0012344390531907137\n",
      "Iteration: 3\n",
      "||dx||: 6.316838183803865e-10\n",
      "Iteration: 4\n",
      "||dx||: 2.7815418595307185e-22\n",
      "Число отрезков: 128\n",
      "Iteration: 0\n",
      "||dx||: 791.0235942314416\n",
      "Iteration: 1\n",
      "||dx||: 0.01681796436065131\n",
      "Iteration: 2\n",
      "||dx||: 5.229191989533295e-07\n",
      "Iteration: 3\n",
      "||dx||: 1.18566528151136e-16\n",
      "Число отрезков: 256\n",
      "Iteration: 0\n",
      "||dx||: 784.8912032352097\n",
      "Iteration: 1\n",
      "||dx||: 0.00021452271206193966\n",
      "Iteration: 2\n",
      "||dx||: 1.2097534890558512e-10\n",
      "Iteration: 3\n",
      "||dx||: 6.584090209929658e-24\n",
      "Число отрезков: 512\n",
      "Iteration: 0\n",
      "||dx||: 784.2250284532286\n",
      "Iteration: 1\n",
      "||dx||: 2.003018254729375e-06\n",
      "Iteration: 2\n",
      "||dx||: 1.736041251514154e-14\n"
     ]
    }
   ],
   "source": [
    "def matprint(mat, fmt=\"g\"):\n",
    "    col_maxes = [max([len((\"{:\"+fmt+\"}\").format(x)) for x in col]) for col in mat.T]\n",
    "    for x in mat:\n",
    "        for i, y in enumerate(x):\n",
    "            print((\"{:\"+str(col_maxes[i])+fmt+\"}\").format(y), end=\"  \")\n",
    "        print(\"\")\n",
    "\n",
    "def mult(a, b):\n",
    "    res = np.matrix(np.zeros(a.shape), dtype = np.float64)\n",
    "    for i in range(a.shape[0]):\n",
    "        res[i] = a[i]*b[i]\n",
    "    return res\n",
    "\n",
    "def NewtonSolver(f, u0, eps=10**-12, h = 10**-5):\n",
    "    global N, x\n",
    "    u = u0\n",
    "    dx = np.matrix(np.ones(u0.shape), dtype = np.float64)\n",
    "    i = 0\n",
    "    fu = np.zeros( (u0.shape[0], u0.shape[0]), dtype = np.float64)\n",
    "    while (sum(mult(dx,dx)).item(0))**1/2 > eps:\n",
    "        print(\"Iteration:\", i)\n",
    "        i+=1\n",
    "        du = np.matrix(np.zeros(u0.shape), dtype = np.float64)\n",
    "        for j in range( u0.shape[0]):\n",
    "            du[j-1] = 0.0\n",
    "            du[j] = h\n",
    "            val = ( f(u+du) - f(u-du) )/(2.0*h)\n",
    "            for k in range( u0.shape[0]):\n",
    "                fu[j][k]= val[k]\n",
    "        fu = fu.T\n",
    "        #matprint(fu)\n",
    "        dx = -1 * np.linalg.inv(fu) * f(u)\n",
    "        u = u + dx\n",
    "        print('||dx||:',(sum(mult(dx,dx)).item(0))**1/2)\n",
    "    return u\n",
    "\n",
    "global N, k0, k1, u0v, uNv, x\n",
    "N = 8\n",
    "k0 = 1.0\n",
    "k1 = 0.5\n",
    "u0v = 0.0\n",
    "uNv = 0.0\n",
    "lambda0 = 40.0\n",
    "\n",
    "def F(u):\n",
    "    global N, k0, k1, u0v, uNv, x\n",
    "    res = np.matrix( np.zeros((N+2, 1)), dtype = np.float64)  \n",
    "    res[0] = u[0] - u0v\n",
    "    res[N] = u[N] -uNv\n",
    "    for i in range(1, N):\n",
    "        res[i] = (u[i+1] - u[i]) * (k0 + k1 * (u[i]**2 + u[i+1]**2)/2.0) - (u[i] - u[i-1])*(k0 + k1 * (u[i]**2 + u[i-1]**2)/2) + u[-1]*u[i]*(x[i]-x[i+1])**2\n",
    "    res[N+1] = u[N//2+1] - u[N//2-1] - 2* (x[1]-x[0])\n",
    "    return res\n",
    "\n",
    "prev_answer = np.matrix(np.ones((N//2, 1)), dtype = np.float64)\n",
    "lambdas = []\n",
    "\n",
    "for j in range(1,8):\n",
    "    print('Число отрезков:', N)\n",
    "    \n",
    "    x = np.linspace(0, 1, N+1)\n",
    "    u0 = np.matrix(np.zeros((N+2, 1)), dtype = np.float64)\n",
    "   \n",
    "    for i in range(N//2):\n",
    "        u0[2*i] = prev_answer[i]\n",
    "        \n",
    "    for i in range(1,N-11,2):\n",
    "        u0[i] = (u0[i-1] + u0[i+1])/2\n",
    "    \n",
    "    if j==1:\n",
    "        u0[-1] = lambda0\n",
    "        u0[1] = -0.1\n",
    "        u0[N//2] =  0\n",
    "    prev_answer = NewtonSolver(F, u0)\n",
    "    lambdas.append(prev_answer[-1:])\n",
    "    N*=2"
   ]
  },
  {
   "cell_type": "code",
   "execution_count": 4,
   "id": "2174fa5f",
   "metadata": {},
   "outputs": [
    {
     "data": {
      "text/plain": [
       "[37.679101923173505,\n",
       " 39.112573103029945,\n",
       " 39.479377728398966,\n",
       " 39.57160490895261,\n",
       " 39.59469456851977,\n",
       " 39.60046903727823,\n",
       " 39.60191278283212]"
      ]
     },
     "execution_count": 4,
     "metadata": {},
     "output_type": "execute_result"
    }
   ],
   "source": [
    "lambdas = [t.item(0) for t in lambdas]\n",
    "lambdas"
   ]
  },
  {
   "cell_type": "code",
   "execution_count": 29,
   "id": "d0d70614",
   "metadata": {},
   "outputs": [
    {
     "data": {
      "image/png": "[encoded data removed]",
      "text/plain": [
       "<Figure size 720x432 with 1 Axes>"
      ]
     },
     "metadata": {
      "needs_background": "light"
     },
     "output_type": "display_data"
    }
   ],
   "source": [
    "fig, ax = plt.subplots(figsize=(10,6))\n",
    "ax.plot(lambdas)\n",
    "ax.set_xlabel('n', fontsize = 14)\n",
    "ax.set_ylabel('λ', fontsize = 14)\n",
    "ax.grid(':')"
   ]
  },
  {
   "cell_type": "code",
   "execution_count": 11,
   "id": "079bb0b4",
   "metadata": {},
   "outputs": [],
   "source": [
    "def eitken_thickening(U2, U1, U0, r):\n",
    "    return U2+(U2-U1)/((U1-U0)/(U2-U1)-1)"
   ]
  },
  {
   "cell_type": "code",
   "execution_count": 12,
   "id": "e4471095",
   "metadata": {},
   "outputs": [
    {
     "data": {
      "text/plain": [
       "[39.6055142727821,\n",
       " 39.60258288253887,\n",
       " 39.60240575589416,\n",
       " 39.60239477346045,\n",
       " 39.60239408840764]"
      ]
     },
     "execution_count": 12,
     "metadata": {},
     "output_type": "execute_result"
    }
   ],
   "source": [
    "eitken_vals1 = [eitken_thickening(lambdas[i], lambdas[i-1], lambdas[i-2], 1/2.0) for i in range(2, len(lambdas))]\n",
    "eitken_vals1"
   ]
  },
  {
   "cell_type": "code",
   "execution_count": 13,
   "id": "77cd1f89",
   "metadata": {},
   "outputs": [
    {
     "data": {
      "text/plain": [
       "[39.602394364882684, 39.60239404750166, 39.602394042833204]"
      ]
     },
     "execution_count": 13,
     "metadata": {},
     "output_type": "execute_result"
    }
   ],
   "source": [
    "eitken_vals2 = [eitken_thickening(eitken_vals1[i], eitken_vals1[i-1], eitken_vals1[i-2],1/2) for i in range(2,len(eitken_vals1))]\n",
    "eitken_vals2"
   ]
  },
  {
   "cell_type": "code",
   "execution_count": 14,
   "id": "3e0ecb2f",
   "metadata": {},
   "outputs": [
    {
     "data": {
      "text/plain": [
       "39.60239404276351"
      ]
     },
     "execution_count": 14,
     "metadata": {},
     "output_type": "execute_result"
    }
   ],
   "source": [
    "eitken_vals3 = [ eitken_thickening(eitken_vals2[i], eitken_vals2[i-1], eitken_vals2[i-2],1/2) for i in range(2,len(eitken_vals2)) ]\n",
    "eitken_vals3[0]"
   ]
  },
  {
   "cell_type": "code",
   "execution_count": 17,
   "id": "78ebdfc1",
   "metadata": {},
   "outputs": [],
   "source": [
    "answer = [0] + [t.item(0) for t in prev_answer[:-1]] + [0]"
   ]
  },
  {
   "cell_type": "code",
   "execution_count": 28,
   "id": "ff93084d",
   "metadata": {},
   "outputs": [
    {
     "data": {
      "image/png": "[encoded data removed]",
      "text/plain": [
       "<Figure size 720x432 with 1 Axes>"
      ]
     },
     "metadata": {
      "needs_background": "light"
     },
     "output_type": "display_data"
    }
   ],
   "source": [
    "fig, ax = plt.subplots(figsize=(10,6))\n",
    "x = np.linspace(0,1,len(answer))\n",
    "ax.plot(x, answer) \n",
    "ax.set_xlabel('x', fontsize = 14)\n",
    "ax.set_ylabel('u', fontsize = 14)\n",
    "ax.set_title('Решение с сеткой из 512 интервалов', fontsize = 14)\n",
    "ax.grid(':')"
   ]
  },
  {
   "cell_type": "code",
   "execution_count": 24,
   "id": "26ce0b56",
   "metadata": {},
   "outputs": [],
   "source": [
    "from math import log\n",
    "def effective_p(U2,U1,U0,r):\n",
    "    return log((U2-U1)/(U1-U0))/log(1/2)\n",
    "def richardson_thickening(U1,U0,r,p):\n",
    "    return (r**(-p)*U1-U0)/(r**(-p)-1)"
   ]
  },
  {
   "cell_type": "code",
   "execution_count": 31,
   "id": "216efc97",
   "metadata": {},
   "outputs": [
    {
     "data": {
      "image/png": "[encoded data removed]",
      "text/plain": [
       "<Figure size 720x432 with 1 Axes>"
      ]
     },
     "metadata": {
      "needs_background": "light"
     },
     "output_type": "display_data"
    }
   ],
   "source": [
    "p_vals1 = [effective_p(lambdas[i], lambdas[i-1], lambdas[i-2], 1/2.0) for i in range(2, len(lambdas))]\n",
    "fig, ax = plt.subplots(figsize=(10,6))\n",
    "ax.plot(p_vals1) \n",
    "ax.set_xlabel('n', fontsize = 14)\n",
    "ax.set_ylabel('p', fontsize = 14)\n",
    "ax.set_title('Эффективный порядок', fontsize = 14)\n",
    "ax.grid(':')"
   ]
  },
  {
   "cell_type": "code",
   "execution_count": 38,
   "id": "bfe26e08",
   "metadata": {},
   "outputs": [
    {
     "data": {
      "image/png": "[encoded data removed]",
      "text/plain": [
       "<Figure size 720x432 with 1 Axes>"
      ]
     },
     "metadata": {
      "needs_background": "light"
     },
     "output_type": "display_data"
    }
   ],
   "source": [
    "richardson_vals1 = [richardson_thickening(lambdas[i],lambdas[i-1],1/2,2) for i in range(2,len(lambdas))]\n",
    "p_vals2 = [effective_p(richardson_vals1[i], richardson_vals1[i-1], richardson_vals1[i-2], 1/2.0) for i in range(2, len(richardson_vals1))]\n",
    "richardson_vals2 = [richardson_thickening(richardson_vals1[i], richardson_vals1[i-1],1/2,4) for i in range(2,len(richardson_vals1))]\n",
    "fig, ax = plt.subplots(figsize=(10,6))\n",
    "ax.plot(p_vals2) \n",
    "ax.grid(':')"
   ]
  },
  {
   "cell_type": "code",
   "execution_count": 35,
   "id": "e89656ef",
   "metadata": {},
   "outputs": [
    {
     "data": {
      "text/plain": [
       "[39.60239404299138, 39.60239404276364, 39.602394042760245]"
      ]
     },
     "execution_count": 35,
     "metadata": {},
     "output_type": "execute_result"
    }
   ],
   "source": [
    "richardson_vals2"
   ]
  },
  {
   "cell_type": "code",
   "execution_count": 40,
   "id": "4e0adb70",
   "metadata": {},
   "outputs": [
    {
     "data": {
      "text/plain": [
       "[<matplotlib.lines.Line2D at 0x2d358b20d30>]"
      ]
     },
     "execution_count": 40,
     "metadata": {},
     "output_type": "execute_result"
    },
    {
     "data": {
      "image/png": "[encoded data removed]",
      "text/plain": [
       "<Figure size 432x288 with 1 Axes>"
      ]
     },
     "metadata": {
      "needs_background": "light"
     },
     "output_type": "display_data"
    }
   ],
   "source": [
    "p_vals3 = [effective_p(richardson_vals2[i], richardson_vals2[i-1], richardson_vals2[i-2], 1/2.0) for i in range(2, len(richardson_vals2))]\n",
    "richardson_vals3 = [richardson_thickening(richardson_vals2[i], richardson_vals2[i-1],1/2,6) for i in range(2,len(richardson_vals2))]\n",
    "plt.figure()\n",
    "plt.plot(p_vals3)"
   ]
  },
  {
   "cell_type": "code",
   "execution_count": 41,
   "id": "3945864d",
   "metadata": {},
   "outputs": [
    {
     "data": {
      "text/plain": [
       "[39.602394042760196]"
      ]
     },
     "execution_count": 41,
     "metadata": {},
     "output_type": "execute_result"
    }
   ],
   "source": [
    "richardson_vals3"
   ]
  },
  {
   "cell_type": "code",
   "execution_count": null,
   "id": "b689532f",
   "metadata": {},
   "outputs": [],
   "source": []
  }
 ],
 "metadata": {
  "kernelspec": {
   "display_name": "Python 3 (ipykernel)",
   "language": "python",
   "name": "python3"
  },
  "language_info": {
   "codemirror_mode": {
    "name": "ipython",
    "version": 3
   },
   "file_extension": ".py",
   "mimetype": "text/x-python",
   "name": "python",
   "nbconvert_exporter": "python",
   "pygments_lexer": "ipython3",
   "version": "3.8.12"
  }
 },
 "nbformat": 4,
 "nbformat_minor": 5
}
